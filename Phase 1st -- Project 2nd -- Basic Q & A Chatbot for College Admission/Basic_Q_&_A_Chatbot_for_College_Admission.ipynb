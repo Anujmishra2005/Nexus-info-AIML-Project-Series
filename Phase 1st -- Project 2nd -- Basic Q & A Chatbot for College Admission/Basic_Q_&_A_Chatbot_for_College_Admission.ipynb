{
  "nbformat": 4,
  "nbformat_minor": 0,
  "metadata": {
    "colab": {
      "provenance": []
    },
    "kernelspec": {
      "name": "python3",
      "display_name": "Python 3"
    },
    "language_info": {
      "name": "python"
    }
  },
  "cells": [
    {
      "cell_type": "code",
      "execution_count": null,
      "metadata": {
        "id": "NbZZc3hA_nWz",
        "colab": {
          "base_uri": "https://localhost:8080/"
        },
        "outputId": "3d60df17-86ae-4648-945c-d1483d537d68"
      },
      "outputs": [
        {
          "output_type": "stream",
          "name": "stdout",
          "text": [
            "Hello! I'm the Admission Chatbot. How can I assist you today?\n"
          ]
        }
      ],
      "source": [
        "class AdmissionChatbot:\n",
        "    def __init__(self):\n",
        "        self.context = {}\n",
        "\n",
        "    def handle_input(self, user_input):\n",
        "        user_input = user_input.lower()\n",
        "        if \"admission\" in user_input:\n",
        "            response = self._handle_admission_query(user_input)\n",
        "        else:\n",
        "            response = \"I'm here to help you with college admission queries. Please ask me about admission procedures, requirements, deadlines, financial aid, campus tours, application fees, academics, extracurricular activities, campus life, or anything else related to college admissions.\"\n",
        "        return response\n",
        "\n",
        "    def _handle_admission_query(self, user_input):\n",
        "        admission_responses = {\n",
        "            \"what are the admission procedures?\": \"The admission procedures generally include filling out the application form, providing academic transcripts, letters of recommendation, and possibly attending an interview or submitting a portfolio.\",\n",
        "            \"what are the admission requirements?\": \"The admission requirements typically include academic transcripts, standardized test scores, letters of recommendation, a personal statement, and sometimes an admissions essay or interview.\",\n",
        "            \"what are the admission deadlines?\": \"The admission deadlines vary by college and program. It's crucial to check the college's website for specific deadlines, as they may differ for regular decision, early action, or early decision applications.\",\n",
        "            \"what financial aid options are available?\": \"Financial aid options may include scholarships, grants, loans, and work-study programs. Be sure to complete the Free Application for Federal Student Aid (FAFSA) to determine your eligibility for federal aid and check with the college's financial aid office for additional assistance.\",\n",
        "            \"are campus tours available?\": \"Yes, most colleges offer campus tours for prospective students. You can typically schedule a tour through the college's admissions office or visit the college's website for tour information.\",\n",
        "            \"what are the application fees?\": \"Application fees vary by college and may range from $50 to $100 or more. Some colleges offer fee waivers for students with financial need, so be sure to check with the college's admissions office for fee waiver options.\",\n",
        "            \"what are the academic programs offered?\": \"Colleges offer a wide range of academic programs, including majors, minors, concentrations, and specializations. Visit the college's website or contact the admissions office for information about specific academic programs.\",\n",
        "            \"what are the opportunities for extracurricular activities?\": \"Colleges offer a variety of extracurricular activities, including clubs, sports teams, community service programs, and cultural organizations. These activities provide students with opportunities to pursue their interests, develop leadership skills, and make connections with other students.\",\n",
        "            \"what is campus life like?\": \"Campus life varies from college to college, but it typically includes a mix of academic, social, and recreational activities. You can learn more about campus life by visiting the college's website, attending campus events, and talking to current students.\",\n",
        "            \"what support services are available for students?\": \"Colleges offer a range of support services for students, including academic advising, counseling, tutoring, career services, and health services. These services are designed to help students succeed academically, personally, and professionally.\",\n",
        "        }\n",
        "        for question, response in admission_responses.items():\n",
        "            if question in user_input:\n",
        "                return response\n",
        "        return \"I'm sorry, I couldn't find information related to your query. Would you like assistance with anything else?\"\n",
        "\n",
        "    def start_conversation(self):\n",
        "        print(\"Hello! I'm the Admission Chatbot. How can I assist you today?\")\n",
        "        while True:\n",
        "            user_input = input(\"You: \")\n",
        "            if user_input.lower() == 'exit':\n",
        "                break\n",
        "            response = self.handle_input(user_input)\n",
        "            print(\"Chatbot:\", response)\n",
        "\n",
        "        print(\"Thank you for using the Admission Chatbot. If you have further questions, feel free to visit our college's admissions website or contact the admissions office directly. Goodbye!\")\n",
        "\n",
        "\n",
        "if __name__ == \"__main__\":\n",
        "    chatbot = AdmissionChatbot()\n",
        "    chatbot.start_conversation()\n",
        "\n",
        "#   Basic Q & A Chatbot for College Admission :------------------------------\n",
        "\n",
        "#            \"what are the admission procedures?\"\n",
        "#            \"what are the admission requirements?\"\n",
        "#            \"what are the admission deadlines?\"\n",
        "#            \"what financial aid options are available?\"\n",
        "#            \"are campus tours available?\"\n",
        "#            \"what are the application fees?\"\n",
        "#           \"what are the academic programs offered?\"\n",
        "#            \"what are the opportunities for extracurricular activities?\"\n",
        "#            \"what is campus life like?\"\n",
        "#            \"what support services are available for students?\"\n",
        "\n"
      ]
    },
    {
      "cell_type": "code",
      "source": [],
      "metadata": {
        "colab": {
          "base_uri": "https://localhost:8080/",
          "height": 141
        },
        "id": "wijiB9kw0cHu",
        "outputId": "25e99d9a-b178-4224-8e0a-af8a1a97b7a1"
      },
      "execution_count": null,
      "outputs": [
        {
          "output_type": "error",
          "ename": "NameError",
          "evalue": "name 'main' is not defined",
          "traceback": [
            "\u001b[0;31m---------------------------------------------------------------------------\u001b[0m",
            "\u001b[0;31mNameError\u001b[0m                                 Traceback (most recent call last)",
            "\u001b[0;32m<ipython-input-1-263240bbee7e>\u001b[0m in \u001b[0;36m<cell line: 1>\u001b[0;34m()\u001b[0m\n\u001b[0;32m----> 1\u001b[0;31m \u001b[0mmain\u001b[0m\u001b[0;34m(\u001b[0m\u001b[0;34m)\u001b[0m\u001b[0;34m\u001b[0m\u001b[0;34m\u001b[0m\u001b[0m\n\u001b[0m",
            "\u001b[0;31mNameError\u001b[0m: name 'main' is not defined"
          ]
        }
      ]
    }
  ]
}